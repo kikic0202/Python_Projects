{
 "cells": [
  {
   "cell_type": "markdown",
   "metadata": {},
   "source": [
    "**Note:** This project includes moving and renaming files on desktop. It is advised either to move all required files and folders from desktop to another location or use the location of a specified folder instead of desktop."
   ]
  },
  {
   "cell_type": "code",
   "execution_count": null,
   "metadata": {},
   "outputs": [],
   "source": []
  },
  {
   "cell_type": "code",
   "execution_count": 1,
   "metadata": {},
   "outputs": [],
   "source": [
    "                                                                                                        ## total time: 210mins"
   ]
  },
  {
   "cell_type": "code",
   "execution_count": 2,
   "metadata": {},
   "outputs": [],
   "source": [
    "                                                                                                                ## time: 40mins"
   ]
  },
  {
   "cell_type": "markdown",
   "metadata": {},
   "source": [
    "**Q1** Write a code that creates a sub-directory based on current date within a directory on desktop. The format for the date will be day name month date year."
   ]
  },
  {
   "cell_type": "code",
   "execution_count": 1,
   "metadata": {},
   "outputs": [],
   "source": [
    "import os\n",
    "import time\n",
    "import datetime\n",
    "from datetime import date"
   ]
  },
  {
   "cell_type": "code",
   "execution_count": 2,
   "metadata": {},
   "outputs": [
    {
     "name": "stdout",
     "output_type": "stream",
     "text": [
      "Current directory:  C:\\Users\\kikic\\myenv\\Scripts\\Session\\Projects & Assigned Work\\Project\\2022-05-30 to 2022-06-09\n"
     ]
    }
   ],
   "source": [
    "# checking current directory\n",
    "current_path = os.getcwd()\n",
    "print('Current directory: ', current_path)"
   ]
  },
  {
   "cell_type": "code",
   "execution_count": 3,
   "metadata": {},
   "outputs": [
    {
     "name": "stdout",
     "output_type": "stream",
     "text": [
      "Successfully created the directory C:\\Users\\kikic\\Desktop\\Wed_06_15_2022.\n"
     ]
    }
   ],
   "source": [
    "# create a directory on desktop\n",
    "desktop=(r\"C:\\Users\\kikic\\Desktop\")\n",
    "mydir=os.path.join(desktop, time.strftime(\"%a\")+'_'+time.strftime(\"%m_%d_%Y\")) #get day and date\n",
    "\n",
    "try:\n",
    "    os.mkdir(mydir)\n",
    "except OSError:\n",
    "    print(\"Creation of the direcotry %s failed.\" % mydir)\n",
    "else:\n",
    "    print(\"Successfully created the directory %s.\" % mydir)"
   ]
  },
  {
   "cell_type": "code",
   "execution_count": 6,
   "metadata": {},
   "outputs": [
    {
     "name": "stdout",
     "output_type": "stream",
     "text": [
      "Successfully deleted the directory C:\\Users\\kikic\\Desktop\\Mon_06_13_2022.\n"
     ]
    }
   ],
   "source": [
    "# delete a directory on destop\n",
    "desktop=(r\"C:\\Users\\kikic\\Desktop\")\n",
    "mydir=os.path.join(desktop, time.strftime(\"%a\")+'_'+time.strftime(\"%m_%d_%Y\"))\n",
    "\n",
    "try:\n",
    "    os.rmdir(mydir)\n",
    "except OSError:\n",
    "    print(\"Deletion of the direcotry %s failed.\" % mydir)\n",
    "else:\n",
    "    print(\"Successfully deleted the directory %s.\" % mydir)"
   ]
  },
  {
   "cell_type": "code",
   "execution_count": null,
   "metadata": {},
   "outputs": [],
   "source": []
  },
  {
   "cell_type": "code",
   "execution_count": 7,
   "metadata": {},
   "outputs": [],
   "source": [
    "                                                                                                                ## time: 40mins"
   ]
  },
  {
   "cell_type": "markdown",
   "metadata": {},
   "source": [
    "**Q2** Write a code to classify all the files and folders on desktop that need to be organised. Exclude the files ending with the extensions 'ini' and 'lnk'. Exclude the folder containing the organised files."
   ]
  },
  {
   "cell_type": "code",
   "execution_count": 128,
   "metadata": {},
   "outputs": [
    {
     "name": "stdout",
     "output_type": "stream",
     "text": [
      "['desktop.ini', 'Discord.lnk', 'file1(1).txt', 'file4.txt', 'GitHub Desktop.lnk', 'Kindle.lnk', 'Microsoft Teams.lnk', 'Mon_06_13_2022', 'Postman.lnk', 'Riot Client.lnk', 'Slack.lnk', 'Ubisoft Connect.lnk', 'WeChat.lnk', 'Wed_06_15_2022', 'Zoom.lnk']\n"
     ]
    }
   ],
   "source": [
    "# checking existing files on desktop\n",
    "desktop = (r\"C:\\Users\\kikic\\Desktop\") # directory to be sorted\n",
    "desktop_files =  os.listdir(desktop) # a list with all the filenames in the directory\n",
    "print(desktop_files)"
   ]
  },
  {
   "cell_type": "code",
   "execution_count": 129,
   "metadata": {},
   "outputs": [],
   "source": [
    "import shutil\n",
    "for file in desktop_files:\n",
    "    name, ext = os.path.splitext(file)\n",
    "    \n",
    "    if ext == '': # if it is a folder, check if the folder contains organised files (non 'ini' or non 'lnk' file)\n",
    "        folder_path = (desktop + '\\\\' + name)\n",
    "        folder_files = os.listdir(folder_path)\n",
    "        \n",
    "        if len(folder_files) != 0: # if the folder is not empty\n",
    "            for folder_file in folder_files:\n",
    "                if ('.ini' not in os.path.splitext(folder_file)) or ('.lnk' not in os.path.splitext(folder_file)):\n",
    "                    pass # if the folder already contains organised files, then never move the folder\n",
    "                else:\n",
    "                    shutil.move(desktop + \"\\\\\" + file, mydir) # if the folder does not contain organised files, then move the folder\n",
    "        else:\n",
    "            shutil.move(desktop + \"\\\\\" + file, mydir) # if the folder is empty, move to target directory\n",
    "            \n",
    "    elif not (ext == '.ini' or ext == '.lnk'): # for non-folder files that needs to be organised, move to target directory, \n",
    "        shutil.move(desktop + \"\\\\\" + file, mydir)"
   ]
  },
  {
   "cell_type": "code",
   "execution_count": 13,
   "metadata": {},
   "outputs": [],
   "source": [
    "                                                                                                                ## time: 40mins"
   ]
  },
  {
   "cell_type": "markdown",
   "metadata": {},
   "source": [
    "**Q3** Return any valid filenames from the desktop location that are common with the files that have already been organised."
   ]
  },
  {
   "cell_type": "code",
   "execution_count": 169,
   "metadata": {},
   "outputs": [
    {
     "data": {
      "text/plain": [
       "['file1.txt']"
      ]
     },
     "execution_count": 169,
     "metadata": {},
     "output_type": "execute_result"
    }
   ],
   "source": [
    "desktop = (r\"C:\\Users\\kikic\\Desktop\")\n",
    "mydir=os.path.join(desktop, time.strftime(\"%a\")+'_'+time.strftime(\"%m_%d_%Y\"))\n",
    "\n",
    "common_file = list(filter(lambda file: os.path.isfile(mydir+\"\\\\\"+file), os.listdir(desktop)))\n",
    "common_file"
   ]
  },
  {
   "cell_type": "code",
   "execution_count": null,
   "metadata": {},
   "outputs": [],
   "source": []
  },
  {
   "cell_type": "code",
   "execution_count": 14,
   "metadata": {},
   "outputs": [],
   "source": [
    "                                                                                                                ## time: 60mins"
   ]
  },
  {
   "cell_type": "markdown",
   "metadata": {},
   "source": [
    "**Q4** Create a method to rename any common valid files to avoid over-writing. Hint: Extract common filenames and add a number to the organising file. \n",
    "\n",
    "**Note:** The common filenames could also be numbered for example myfile(1).txt"
   ]
  },
  {
   "cell_type": "code",
   "execution_count": 171,
   "metadata": {},
   "outputs": [],
   "source": [
    "for file in os.listdir(desktop):\n",
    "    if file in common_file:\n",
    "        old = '{}\\{}'.format(desktop, file)\n",
    "        \n",
    "        if file.split('.')[0][-3] == \"(\" and file.split('.')[0][-2].isnumeric() and file.split('.')[0][-1] == \")\":\n",
    "            new = '{}\\{}({}).{}'.format(desktop, file.split('.')[0][:-3], str(int(file.split('.')[0][-2])+1), file.split('.')[-1])\n",
    "            os.rename(old, new)\n",
    "        else:\n",
    "            new = '{}\\{}(1).{}'.format(desktop, file.split('.')[0], file.split('.')[-1])\n",
    "            os.rename(old, new)"
   ]
  },
  {
   "cell_type": "code",
   "execution_count": null,
   "metadata": {},
   "outputs": [],
   "source": []
  },
  {
   "cell_type": "code",
   "execution_count": 15,
   "metadata": {},
   "outputs": [],
   "source": [
    "                                                                                                                ## time: 30mins"
   ]
  },
  {
   "cell_type": "markdown",
   "metadata": {},
   "source": [
    "**Q5** Combine the above created functions to create a script to move the files accordingly. \n",
    "\n",
    "-> create a sub-directory within a directory based on current date.\\\n",
    "-> rename the common files from cleanup location and desktop location.\\\n",
    "-> move all the valid files to the created sub-directory."
   ]
  },
  {
   "cell_type": "code",
   "execution_count": 200,
   "metadata": {},
   "outputs": [],
   "source": [
    "import os\n",
    "import time\n",
    "import datetime\n",
    "from datetime import date\n",
    "import shutil\n",
    "\n",
    "# create a sub-directory within a directory based on current date.\n",
    "def createSubDir(dest_dir):\n",
    "    try:\n",
    "        os.mkdir(dest_dir)\n",
    "    except OSError:\n",
    "        print(\"Creation of the direcotry %s failed.\" % dest_dir)\n",
    "    else:\n",
    "        print(\"Successfully created the directory %s.\" % dest_dir)\n",
    "\n",
    "## delete if necessary\n",
    "def deleteSubDir(dest_dir):\n",
    "    try:\n",
    "        os.rmdir(dest_dir)\n",
    "    except OSError:\n",
    "        print(\"Deletion of the direcotry %s failed.\" % dest_dir)\n",
    "    else:\n",
    "        print(\"Successfully deleted the directory %s.\" % dest_dir)\n",
    "\n",
    "# rename the common files from cleanup location and desktop location.\n",
    "def findCommonFile(dir1, dir2):\n",
    "    common_file = list(filter(lambda file: os.path.isfile(dir1+\"\\\\\"+file), os.listdir(dir2)))\n",
    "    return common_file\n",
    "\n",
    "def renameCommonFile(dest_dir):\n",
    "    for file in os.listdir(dest_dir):\n",
    "        if file in common_file:\n",
    "            old = '{}\\{}'.format(dest_dir, file)\n",
    "\n",
    "            if file.split('.')[0][-3] == \"(\" and file.split('.')[0][-2].isnumeric() and file.split('.')[0][-1] == \")\":\n",
    "                new = '{}\\{}({}).{}'.format(dest_dir, file.split('.')[0][:-3], str(int(file.split('.')[0][-2])+1), file.split('.')[-1])\n",
    "                os.rename(old, new)\n",
    "            else:\n",
    "                new = '{}\\{}(1).{}'.format(dest_dir, file.split('.')[0], file.split('.')[-1])\n",
    "                os.rename(old, new)\n",
    "\n",
    "# move all the valid files to the created sub-directory.\n",
    "def organizeFile(to_dir, from_dir):\n",
    "    for file in os.listdir(from_dir):\n",
    "        name, ext = os.path.splitext(file)\n",
    "\n",
    "        if ext == '': # if it is a folder, check if the folder contains organised files (non 'ini' or non 'lnk' file)\n",
    "            folder_path = (from_dir + '\\\\' + name)\n",
    "            folder_files = os.listdir(folder_path)\n",
    "\n",
    "            if len(folder_files) != 0: # if the folder is not empty\n",
    "                for folder_file in folder_files:\n",
    "                    if ('.ini' not in os.path.splitext(folder_file)) or ('.lnk' not in os.path.splitext(folder_file)):\n",
    "                        pass # if the folder already contains organised files, then never move the folder\n",
    "                    else:\n",
    "                        shutil.move(from_dir + \"\\\\\" + file, to_dir) # if the folder does not contain organised files, then move the folder\n",
    "            else:\n",
    "                shutil.move(from_dir + \"\\\\\" + file, to_dir) # if the folder is empty, move to target directory\n",
    "\n",
    "        elif not (ext == '.ini' or ext == '.lnk'): # for non-folder files that needs to be organised, move to target directory, \n",
    "            shutil.move(from_dir + \"\\\\\" + file, to_dir)"
   ]
  },
  {
   "cell_type": "code",
   "execution_count": 209,
   "metadata": {},
   "outputs": [],
   "source": [
    "desktop=(r\"C:\\Users\\kikic\\Desktop\")\n",
    "clean_loc=(os.path.join(desktop, time.strftime(\"%a\")+'_'+time.strftime(\"%m_%d_%Y\")))"
   ]
  },
  {
   "cell_type": "code",
   "execution_count": 212,
   "metadata": {},
   "outputs": [
    {
     "name": "stdout",
     "output_type": "stream",
     "text": [
      "Deletion of the direcotry C:\\Users\\kikic\\Desktop\\Wed_06_15_2022 failed.\n"
     ]
    }
   ],
   "source": [
    "deleteSubDir(clean_loc)"
   ]
  },
  {
   "cell_type": "code",
   "execution_count": 213,
   "metadata": {},
   "outputs": [
    {
     "name": "stdout",
     "output_type": "stream",
     "text": [
      "Successfully created the directory C:\\Users\\kikic\\Desktop\\Wed_06_15_2022.\n"
     ]
    }
   ],
   "source": [
    "createSubDir(clean_loc)"
   ]
  },
  {
   "cell_type": "code",
   "execution_count": 197,
   "metadata": {},
   "outputs": [
    {
     "data": {
      "text/plain": [
       "['file1.txt']"
      ]
     },
     "execution_count": 197,
     "metadata": {},
     "output_type": "execute_result"
    }
   ],
   "source": [
    "findCommonFile(clean_loc, desktop)"
   ]
  },
  {
   "cell_type": "code",
   "execution_count": 198,
   "metadata": {},
   "outputs": [],
   "source": [
    "renameCommonFile(desktop)"
   ]
  },
  {
   "cell_type": "code",
   "execution_count": 201,
   "metadata": {},
   "outputs": [],
   "source": [
    "organizeFile(clean_loc, desktop)"
   ]
  }
 ],
 "metadata": {
  "kernelspec": {
   "display_name": "Python 3 (ipykernel)",
   "language": "python",
   "name": "python3"
  },
  "language_info": {
   "codemirror_mode": {
    "name": "ipython",
    "version": 3
   },
   "file_extension": ".py",
   "mimetype": "text/x-python",
   "name": "python",
   "nbconvert_exporter": "python",
   "pygments_lexer": "ipython3",
   "version": "3.9.0"
  }
 },
 "nbformat": 4,
 "nbformat_minor": 4
}

{
 "cells": [
  {
   "cell_type": "code",
   "execution_count": null,
   "metadata": {},
   "outputs": [],
   "source": [
    "                                                                                                                ## time: 40mins"
   ]
  },
  {
   "cell_type": "markdown",
   "metadata": {},
   "source": [
    "**Q** Combine all the methods under one class definition passing class constructor with the cleanup location and the location you want to cleanup. Declare all the variables used by multiple methods under the `__init__` method. Perform the following steps in sequence through the object.\n",
    "\n",
    "-> create a sub-directory within a directory based on current date.\\\n",
    "-> rename the common files from cleanup location and desktop location.\\\n",
    "-> move all the valid files to the created sub-directory."
   ]
  },
  {
   "cell_type": "code",
   "execution_count": 19,
   "metadata": {},
   "outputs": [
    {
     "ename": "NameError",
     "evalue": "name 'argparse' is not defined",
     "output_type": "error",
     "traceback": [
      "\u001b[1;31m---------------------------------------------------------------------------\u001b[0m",
      "\u001b[1;31mNameError\u001b[0m                                 Traceback (most recent call last)",
      "Input \u001b[1;32mIn [19]\u001b[0m, in \u001b[0;36m<cell line: 64>\u001b[1;34m()\u001b[0m\n\u001b[0;32m     61\u001b[0m             shutil\u001b[38;5;241m.\u001b[39mmove(from_dir \u001b[38;5;241m+\u001b[39m \u001b[38;5;124m\"\u001b[39m\u001b[38;5;130;01m\\\\\u001b[39;00m\u001b[38;5;124m\"\u001b[39m \u001b[38;5;241m+\u001b[39m file, to_dir)\n\u001b[0;32m     64\u001b[0m \u001b[38;5;28;01mif\u001b[39;00m \u001b[38;5;18m__name__\u001b[39m \u001b[38;5;241m==\u001b[39m \u001b[38;5;124m\"\u001b[39m\u001b[38;5;124m__main__\u001b[39m\u001b[38;5;124m\"\u001b[39m:\n\u001b[1;32m---> 65\u001b[0m     parser\u001b[38;5;241m=\u001b[39m\u001b[43margparse\u001b[49m\u001b[38;5;241m.\u001b[39mArgumentParser()\n\u001b[0;32m     66\u001b[0m     parser\u001b[38;5;241m.\u001b[39madd_argument(\u001b[38;5;124m\"\u001b[39m\u001b[38;5;124m-desktop_location\u001b[39m\u001b[38;5;124m\"\u001b[39m,\u001b[38;5;28mtype\u001b[39m\u001b[38;5;241m=\u001b[39m\u001b[38;5;28mstr\u001b[39m,required\u001b[38;5;241m=\u001b[39m\u001b[38;5;28;01mFalse\u001b[39;00m)\n\u001b[0;32m     67\u001b[0m     parser\u001b[38;5;241m.\u001b[39madd_argument(\u001b[38;5;124m\"\u001b[39m\u001b[38;5;124m-clean_location\u001b[39m\u001b[38;5;124m\"\u001b[39m,\u001b[38;5;28mtype\u001b[39m\u001b[38;5;241m=\u001b[39m\u001b[38;5;28mstr\u001b[39m,required\u001b[38;5;241m=\u001b[39m\u001b[38;5;28;01mFalse\u001b[39;00m)\n",
      "\u001b[1;31mNameError\u001b[0m: name 'argparse' is not defined"
     ]
    }
   ],
   "source": [
    "import os\n",
    "import time\n",
    "import datetime\n",
    "from datetime import date\n",
    "import shutil\n",
    "\n",
    "# create a sub-directory within a directory based on current date.\n",
    "def createSubDir(dest_dir):\n",
    "    try:\n",
    "        os.mkdir(dest_dir)\n",
    "    except OSError:\n",
    "        print(\"Creation of the direcotry %s failed.\" % dest_dir)\n",
    "    else:\n",
    "        print(\"Successfully created the directory %s.\" % dest_dir)\n",
    "\n",
    "## delete if necessary\n",
    "def deleteSubDir(dest_dir):\n",
    "    try:\n",
    "        os.rmdir(dest_dir)\n",
    "    except OSError:\n",
    "        print(\"Deletion of the direcotry %s failed.\" % dest_dir)\n",
    "    else:\n",
    "        print(\"Successfully deleted the directory %s.\" % dest_dir)\n",
    "\n",
    "# rename the common files from cleanup location and desktop location.\n",
    "def findCommonFile(dir1, dir2):\n",
    "    common_file = list(filter(lambda file: os.path.isfile(dir1+\"\\\\\"+file), os.listdir(dir2)))\n",
    "    return common_file\n",
    "\n",
    "def renameCommonFile(dest_dir):\n",
    "    for file in os.listdir(dest_dir):\n",
    "        if file in common_file:\n",
    "            old = '{}\\{}'.format(dest_dir, file)\n",
    "\n",
    "            if file.split('.')[0][-3] == \"(\" and file.split('.')[0][-2].isnumeric() and file.split('.')[0][-1] == \")\":\n",
    "                new = '{}\\{}({}).{}'.format(dest_dir, file.split('.')[0][:-3], str(int(file.split('.')[0][-2])+1), file.split('.')[-1])\n",
    "                os.rename(old, new)\n",
    "            else:\n",
    "                new = '{}\\{}(1).{}'.format(dest_dir, file.split('.')[0], file.split('.')[-1])\n",
    "                os.rename(old, new)\n",
    "\n",
    "# move all the valid files to the created sub-directory.\n",
    "def organizeFile(to_dir, from_dir):\n",
    "    for file in os.listdir(from_dir):\n",
    "        name, ext = os.path.splitext(file)\n",
    "\n",
    "        if ext == '': # if it is a folder, check if the folder contains organised files (non 'ini' or non 'lnk' file)\n",
    "            folder_path = (from_dir + '\\\\' + name)\n",
    "            folder_files = os.listdir(folder_path)\n",
    "\n",
    "            if len(folder_files) != 0: # if the folder is not empty\n",
    "                for folder_file in folder_files:\n",
    "                    if ('.ini' not in os.path.splitext(folder_file)) or ('.lnk' not in os.path.splitext(folder_file)):\n",
    "                        pass # if the folder already contains organised files, then never move the folder\n",
    "                    else:\n",
    "                        shutil.move(from_dir + \"\\\\\" + file, to_dir) # if the folder does not contain organised files, then move the folder\n",
    "            else:\n",
    "                shutil.move(from_dir + \"\\\\\" + file, to_dir) # if the folder is empty, move to target directory\n",
    "\n",
    "        elif not (ext == '.ini' or ext == '.lnk'): # for non-folder files that needs to be organised, move to target directory, \n",
    "            shutil.move(from_dir + \"\\\\\" + file, to_dir)\n",
    "            \n",
    "\n",
    "if __name__ == \"__main__\":\n",
    "    parser=argparse.ArgumentParser()\n",
    "    parser.add_argument(\"-desktop_location\",type=str,required=False)\n",
    "    parser.add_argument(\"-clean_location\",type=str,required=False)\n",
    "    args=parser.parse_args()\n",
    "    \n",
    "    desktop = args.desktop_location\n",
    "    clean_loc = args.clean_location\n",
    "    clean_folder = createSubDir(clean_loc)\n",
    "    \n",
    "    common_file = findCommonFile(desktop, clean_folder)\n",
    "    renameCommonFile(desktop)\n",
    "    organizeFile(clean, desktop)"
   ]
  },
  {
   "cell_type": "code",
   "execution_count": null,
   "metadata": {},
   "outputs": [],
   "source": [
    "# create a class\n",
    "# call all function in sequence\n",
    "# do this in spyder"
   ]
  }
 ],
 "metadata": {
  "kernelspec": {
   "display_name": "Python 3 (ipykernel)",
   "language": "python",
   "name": "python3"
  },
  "language_info": {
   "codemirror_mode": {
    "name": "ipython",
    "version": 3
   },
   "file_extension": ".py",
   "mimetype": "text/x-python",
   "name": "python",
   "nbconvert_exporter": "python",
   "pygments_lexer": "ipython3",
   "version": "3.9.0"
  }
 },
 "nbformat": 4,
 "nbformat_minor": 4
}
